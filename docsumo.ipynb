{
 "cells": [
  {
   "cell_type": "code",
   "execution_count": 1,
   "metadata": {},
   "outputs": [],
   "source": [
    "import os\n",
    "import requests\n",
    "\n",
    "url = \"https://app.docsumo.com/api/v1/eevee/apikey/documents/all/\"\n",
    "headers = {\"accept\": \"application/json\", \"X-API-KEY\": os.environ[\"DOCSUMO_API_KEY\"]}\n",
    "response = requests.get(url, headers=headers)\n",
    "document_ids = [document[\"doc_id\"] for document in response.json()[\"data\"][\"documents\"]]\n",
    "\n",
    "for document_id in document_ids:\n",
    "    url = f\"https://app.docsumo.com/api/v1/eevee/apikey/data/{document_id}/\"\n",
    "    response = requests.get(url, headers=headers)\n",
    "    document_name = f\"docsumo_{document_id}_response.json\"\n",
    "    directory = \"docsumo_api_responses\"\n",
    "\n",
    "    if not os.path.exists(directory):\n",
    "        os.makedirs(directory)\n",
    "\n",
    "    file_name = os.path.join(directory, document_name)\n",
    "    with open(file_name, \"w\") as f:\n",
    "        f.write(response.text)"
   ]
  }
 ],
 "metadata": {
  "kernelspec": {
   "display_name": "venv",
   "language": "python",
   "name": "python3"
  },
  "language_info": {
   "codemirror_mode": {
    "name": "ipython",
    "version": 3
   },
   "file_extension": ".py",
   "mimetype": "text/x-python",
   "name": "python",
   "nbconvert_exporter": "python",
   "pygments_lexer": "ipython3",
   "version": "3.11.4"
  }
 },
 "nbformat": 4,
 "nbformat_minor": 2
}
